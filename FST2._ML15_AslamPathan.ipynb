{
 "cells": [
  {
   "cell_type": "markdown",
   "id": "846816e2",
   "metadata": {},
   "source": [
    "#   Python program to display the sum of n numbers using the list"
   ]
  },
  {
   "cell_type": "code",
   "execution_count": null,
   "id": "7b7b44d9",
   "metadata": {},
   "outputs": [
    {
     "name": "stdout",
     "output_type": "stream",
     "text": [
      "Enter the number: 22\n",
      "Enter a number: 2\n",
      "Enter a number: 2\n",
      "Enter a number: 2\n",
      "Enter a number: 2\n",
      "Enter a number: 2\n",
      "Enter a number: 2\n",
      "Enter a number: 2\n"
     ]
    }
   ],
   "source": [
    "n = int(input(\"Enter the number: \"))\n",
    "numbers = []\n",
    "\n",
    "for i in range(n):\n",
    "    number = int(input(\"Enter a number: \"))\n",
    "    numbers.append(number)\n",
    "total = sum(numbers)\n",
    "print(f\"The sum of {n} numbers is {total}.\")"
   ]
  },
  {
   "cell_type": "markdown",
   "id": "c90c7a19",
   "metadata": {},
   "source": [
    "# Use a dictionary comprehension to count the length of each word in a sentence."
   ]
  },
  {
   "cell_type": "code",
   "execution_count": 2,
   "id": "2e21262e",
   "metadata": {},
   "outputs": [
    {
     "name": "stdout",
     "output_type": "stream",
     "text": [
      "{'Its': 3, 'My': 2, 'Exam': 4, 'Today': 5}\n"
     ]
    }
   ],
   "source": [
    "a = \"Its My Exam Today\"\n",
    "word_lengths = {word: len(word) for word in a.split()}\n",
    "print(word_lengths)"
   ]
  },
  {
   "cell_type": "markdown",
   "id": "b2cecf11",
   "metadata": {},
   "source": [
    "\n",
    "#   Python function which counts vowels and consonant in a word"
   ]
  },
  {
   "cell_type": "code",
   "execution_count": 3,
   "id": "f0d4237f",
   "metadata": {},
   "outputs": [
    {
     "name": "stdout",
     "output_type": "stream",
     "text": [
      "Total Number of Vowels in this String =  6\n",
      "Total Number of Consonants in this String =  13\n"
     ]
    }
   ],
   "source": [
    "a =(\"Hi its aslam pathan\")\n",
    "vowels = 0\n",
    "consonants = 0\n",
    "a.lower()\n",
    "\n",
    "for i in a:\n",
    "    if(i == 'a' or i == 'e' or i == 'i' or i == 'o' or i == 'u'):\n",
    "        vowels = vowels + 1\n",
    "    else:\n",
    "        consonants = consonants + 1\n",
    "print(\"Total Number of Vowels in this String = \", vowels)\n",
    "print(\"Total Number of Consonants in this String = \", consonants)"
   ]
  },
  {
   "cell_type": "markdown",
   "id": "6bda43ae",
   "metadata": {},
   "source": [
    "# Create an application using python which can perform the operations mentioned in the below image.                                                                                                                                                           "
   ]
  },
  {
   "cell_type": "code",
   "execution_count": 4,
   "id": "f856da69",
   "metadata": {},
   "outputs": [
    {
     "name": "stdout",
     "output_type": "stream",
     "text": [
      "Welcome to State Bank of India\n",
      "Please enter your 4-digit PIN: 6776\n",
      "\n",
      "Please select an option:\n",
      "1. Withdrawal\n",
      "2. Balance Inquiry\n",
      "3. Fast Cash\n",
      "4. Exit\n",
      "Enter your choice (1-4): 2\n",
      "Your balance is 10000\n",
      "\n",
      "Please select an option:\n",
      "1. Withdrawal\n",
      "2. Balance Inquiry\n",
      "3. Fast Cash\n",
      "4. Exit\n",
      "Enter your choice (1-4): 3\n",
      "Select an amount:\n",
      "1. 500\n",
      "2. 1000\n",
      "3. 2000\n",
      "Enter your choice (1-3): 2\n",
      "Withdrawal successful. Remaining balance is 9000\n",
      "\n",
      "Please select an option:\n",
      "1. Withdrawal\n",
      "2. Balance Inquiry\n",
      "3. Fast Cash\n",
      "4. Exit\n",
      "Enter your choice (1-4): 4\n",
      "Thank you for using State Bank of India!\n"
     ]
    }
   ],
   "source": [
    "print(\"Welcome to State Bank of India\")\n",
    "\n",
    "\n",
    "pin = input(\"Please enter your 4-digit PIN: \")\n",
    "balance = 10000\n",
    "while True:\n",
    "    print(\"\\nPlease select an option:\")\n",
    "    print(\"1. Withdrawal\")\n",
    "    print(\"2. Balance Inquiry\")\n",
    "    print(\"3. Fast Cash\")\n",
    "    print(\"4. Exit\")\n",
    "\n",
    "    choice = int(input(\"Enter your choice (1-4): \"))\n",
    "\n",
    "    if choice == 1:\n",
    "        withdrawal = int(input(\"Enter withdrawal amount: \"))\n",
    "        if withdrawal > balance:\n",
    "            print(\"Insufficient balance!\")\n",
    "        else:\n",
    "            balance -= withdrawal\n",
    "            print(\"Withdrawal successful. Remaining balance is\", balance)\n",
    "\n",
    "    elif choice == 2:\n",
    "        print(\"Your balance is\", balance)\n",
    "\n",
    "    elif choice == 3:\n",
    "        print(\"Select an amount:\")\n",
    "        print(\"1. 500\")\n",
    "        print(\"2. 1000\")\n",
    "        print(\"3. 2000\")\n",
    "        fast_cash_choice = int(input(\"Enter your choice (1-3): \"))\n",
    "\n",
    "        if fast_cash_choice == 1:\n",
    "            withdrawal = 500\n",
    "        elif fast_cash_choice == 2:\n",
    "            withdrawal = 1000\n",
    "        elif fast_cash_choice == 3:\n",
    "            withdrawal = 2000\n",
    "        else:\n",
    "            print(\"Invalid choice!\")\n",
    "            continue\n",
    "\n",
    "        if withdrawal > balance:\n",
    "            print(\"Insufficient balance!\")\n",
    "        else:\n",
    "            balance -= withdrawal\n",
    "            print(\"Withdrawal successful. Remaining balance is\", balance)\n",
    "\n",
    "    elif choice == 4:\n",
    "        print(\"Thank you for using State Bank of India!\")\n",
    "        break\n",
    "\n",
    "    else:\n",
    "        print(\"Invalid choice! Please select a valid option.\")"
   ]
  },
  {
   "cell_type": "markdown",
   "id": "9ebc15ae",
   "metadata": {},
   "source": [
    "# The objective of this project is to explore a dataset containing customer information for treadmill products for a retail store called Cardio Good Fitness"
   ]
  },
  {
   "cell_type": "code",
   "execution_count": null,
   "id": "61edc0f0",
   "metadata": {},
   "outputs": [],
   "source": [
    "import numpy as np\n",
    "import pandas as pd\n",
    "import seaborn as sns\n",
    "import matplotlib.pyplot as plt"
   ]
  },
  {
   "cell_type": "code",
   "execution_count": null,
   "id": "85e667be",
   "metadata": {},
   "outputs": [],
   "source": [
    "df=pd.read_csv('CardioGoodFitness.csv')"
   ]
  },
  {
   "cell_type": "code",
   "execution_count": null,
   "id": "75bf1900",
   "metadata": {},
   "outputs": [],
   "source": [
    "df.head()"
   ]
  },
  {
   "cell_type": "code",
   "execution_count": null,
   "id": "06903ea3",
   "metadata": {},
   "outputs": [],
   "source": [
    "df.shape"
   ]
  },
  {
   "cell_type": "code",
   "execution_count": null,
   "id": "2a947b20",
   "metadata": {},
   "outputs": [],
   "source": [
    "df.isna().sum()"
   ]
  },
  {
   "cell_type": "code",
   "execution_count": null,
   "id": "f6262724",
   "metadata": {
    "scrolled": true
   },
   "outputs": [],
   "source": [
    "df.info()"
   ]
  },
  {
   "cell_type": "code",
   "execution_count": null,
   "id": "cb656e15",
   "metadata": {},
   "outputs": [],
   "source": [
    "df.describe()"
   ]
  },
  {
   "cell_type": "markdown",
   "id": "2450a74f",
   "metadata": {},
   "source": [
    "# Performing Descriptive Statistics"
   ]
  },
  {
   "cell_type": "code",
   "execution_count": null,
   "id": "942ffda2",
   "metadata": {},
   "outputs": [],
   "source": [
    "\n",
    "df.mode()\n"
   ]
  },
  {
   "cell_type": "code",
   "execution_count": null,
   "id": "2da7de83",
   "metadata": {},
   "outputs": [],
   "source": [
    "df['Product'].value_counts()\n"
   ]
  },
  {
   "cell_type": "code",
   "execution_count": null,
   "id": "5bef1c49",
   "metadata": {},
   "outputs": [],
   "source": [
    "df.mean()"
   ]
  },
  {
   "cell_type": "code",
   "execution_count": null,
   "id": "61b938a2",
   "metadata": {},
   "outputs": [],
   "source": [
    "df.median()"
   ]
  },
  {
   "cell_type": "code",
   "execution_count": null,
   "id": "982aea7e",
   "metadata": {},
   "outputs": [],
   "source": [
    "df.var()"
   ]
  },
  {
   "cell_type": "code",
   "execution_count": null,
   "id": "5e1e13cc",
   "metadata": {},
   "outputs": [],
   "source": [
    "df.std()"
   ]
  },
  {
   "cell_type": "code",
   "execution_count": null,
   "id": "9f0fd9d5",
   "metadata": {},
   "outputs": [],
   "source": [
    "df.kurtosis()"
   ]
  },
  {
   "cell_type": "code",
   "execution_count": null,
   "id": "4ba4a0c1",
   "metadata": {},
   "outputs": [],
   "source": [
    "sns.boxplot(x=\"Gender\", y=\"Age\", data=df)\n"
   ]
  },
  {
   "cell_type": "markdown",
   "id": "b02ee2a6",
   "metadata": {},
   "source": [
    "# Here we can see males have better fitness level."
   ]
  },
  {
   "cell_type": "code",
   "execution_count": null,
   "id": "57c598f0",
   "metadata": {},
   "outputs": [],
   "source": [
    "male_df = df[df['Gender']=='Male']\n",
    "female_df = df[df['Gender']=='Female']\n",
    "plt.hist(male_df['Fitness'], alpha=0.5, label='Male')\n",
    "plt.hist(female_df['Fitness'], alpha=0.5, label='Female')\n",
    "plt.xlabel('Fitness Level')\n",
    "plt.ylabel('Count')\n",
    "plt.legend()\n",
    "plt.show()"
   ]
  },
  {
   "cell_type": "markdown",
   "id": "881c378c",
   "metadata": {},
   "source": [
    "# TM195 is most popular product among all"
   ]
  },
  {
   "cell_type": "code",
   "execution_count": null,
   "id": "8e7861c5",
   "metadata": {},
   "outputs": [],
   "source": [
    "sns.countplot(x=\"Product\", data=df)\n",
    "plt.show()\n"
   ]
  },
  {
   "cell_type": "markdown",
   "id": "0b7137e9",
   "metadata": {},
   "source": [
    "# Partenered are fit"
   ]
  },
  {
   "cell_type": "code",
   "execution_count": null,
   "id": "d7418642",
   "metadata": {},
   "outputs": [],
   "source": [
    "sns.countplot(data=df,x='MaritalStatus',hue=\"Fitness\")\n",
    "plt.show()\n"
   ]
  },
  {
   "cell_type": "markdown",
   "id": "c774973a",
   "metadata": {},
   "source": [
    "# TM195 is the most favourite product of the customers below the age of 40"
   ]
  },
  {
   "cell_type": "code",
   "execution_count": null,
   "id": "6bce7e7a",
   "metadata": {},
   "outputs": [],
   "source": [
    "df_under_40 = df[df['Age']<40]\n",
    "product_counts = df_under_40['Product'].value_counts()\n",
    "print(product_counts)"
   ]
  },
  {
   "cell_type": "markdown",
   "id": "58cd0e41",
   "metadata": {},
   "source": [
    "# Create Data Frame from a list, array and dictionary.    "
   ]
  },
  {
   "cell_type": "code",
   "execution_count": null,
   "id": "d543b48e",
   "metadata": {},
   "outputs": [],
   "source": [
    "#list of data\n",
    "data_list = [['Aslam', 22, 'MCS'], ['Sumit', 23, 'BCS'], ['Jit', 22, 'Male']]\n",
    "\n",
    "\n",
    "df = pd.DataFrame(data_list, columns=['Name', 'Age', 'Course'])\n",
    "\n",
    "print(df)"
   ]
  },
  {
   "cell_type": "code",
   "execution_count": null,
   "id": "ff82bf77",
   "metadata": {},
   "outputs": [],
   "source": [
    "#Numpy array\n",
    "data_array = np.array([[1, 2, 3], [4, 5, 6], [7, 8, 9]])\n",
    "df = pd.DataFrame(data_array, columns=['Column 1', 'Column 2', 'Column 3'])\n",
    "print(df)"
   ]
  },
  {
   "cell_type": "code",
   "execution_count": null,
   "id": "8ba094a5",
   "metadata": {},
   "outputs": [],
   "source": [
    "#dictionary of data\n",
    "data_dict = {'Name': ['Aslam', 'Sumit', 'Jit'], 'Age': [22, 23, 22], 'Gender': ['Male', 'Male', 'Male']}\n",
    "\n",
    "df = pd.DataFrame(data_dict)\n",
    "print(df)"
   ]
  },
  {
   "cell_type": "code",
   "execution_count": null,
   "id": "d3555b37",
   "metadata": {},
   "outputs": [],
   "source": []
  }
 ],
 "metadata": {
  "kernelspec": {
   "display_name": "Python 3 (ipykernel)",
   "language": "python",
   "name": "python3"
  },
  "language_info": {
   "codemirror_mode": {
    "name": "ipython",
    "version": 3
   },
   "file_extension": ".py",
   "mimetype": "text/x-python",
   "name": "python",
   "nbconvert_exporter": "python",
   "pygments_lexer": "ipython3",
   "version": "3.9.13"
  }
 },
 "nbformat": 4,
 "nbformat_minor": 5
}
